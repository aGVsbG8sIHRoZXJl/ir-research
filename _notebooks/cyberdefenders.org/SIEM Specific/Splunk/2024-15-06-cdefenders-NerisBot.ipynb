{
 "cells": [
  {
   "cell_type": "markdown",
   "id": "6f96c2f2-a4f9-41b0-857d-3dd93d321a4d",
   "metadata": {},
   "source": [
    "# NerisBot\n",
    "> Walkthrough\n",
    "+ categories: [SIEM, Splunk, malicious traffic]\n",
    "+ source: [CybersDefenderos](https://cyberdefenders.org/blueteam-ctf-challenges/nerisbot/)\n",
    "\n",
    "## Overview\n",
    "As a security engineer recalled to investigate a university environment, you've identified unusual network activities indicative of malicious intent. These anomalies, observed just six hours ago, suggest the operation of command and control communications along with other potentially harmful behaviors.\n",
    "\n",
    "Your mission is to analyze recent network traffic logs to pinpoint and investigate malicious interactions. Identify command and control servers, and segregate malicious flows.\n",
    "\n",
    "---\n",
    "\n",
    "**Q1:** Can you identify the IP address from which the initial unauthorized access originated?\n",
    "\n",
    "**A** \n",
    "\n",
    "**Q2**\n",
    "**A** \n",
    "\n",
    "**Q3** \n",
    "**A:**    \n",
    "\n",
    "\n",
    "**Q4** \n",
    "**A:**    \n",
    "\n",
    "**Q5**:  \n",
    "\n",
    "**Q6**: \n",
    "**A**: \n",
    "\n",
    "**Q7**: \n",
    "**A**: "
   ]
  }
 ],
 "metadata": {
  "kernelspec": {
   "display_name": "Python 3 (ipykernel)",
   "language": "python",
   "name": "python3"
  },
  "language_info": {
   "codemirror_mode": {
    "name": "ipython",
    "version": 3
   },
   "file_extension": ".py",
   "mimetype": "text/x-python",
   "name": "python",
   "nbconvert_exporter": "python",
   "pygments_lexer": "ipython3",
   "version": "3.12.3"
  }
 },
 "nbformat": 4,
 "nbformat_minor": 5
}
