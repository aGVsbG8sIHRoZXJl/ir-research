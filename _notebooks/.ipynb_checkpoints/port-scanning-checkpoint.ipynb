{
 "cells": [
  {
   "cell_type": "markdown",
   "id": "0056af08-8ec5-4855-8d28-f2c2795170c6",
   "metadata": {},
   "source": [
    "# Introduction\n",
    "> A brief introduction to port scans how to identify them using Wireshark"
   ]
  },
  {
   "attachments": {},
   "cell_type": "markdown",
   "id": "82417fe2-03ed-4fdc-b2fe-21ce16726d06",
   "metadata": {},
   "source": [
    "## Overview\n",
    "---\n",
    "#### What are they?\n",
    "A port scan is a technique used for discovering open doors or weak points in a network. It provides a way of finding open ports to determine whether they are receiving or sending data. This method can also reveal whether active security devices, like firewalls, are being used by an organization. This is commonly achieved by initiating a connection to the port. The response received determines whether the port is open or not.\n",
    "\n",
    "One of the most basic forms of port scanning involves trying to establish a full connection on a given port. Many applications abstract away the details of a port scan for better usability. However, beneath this level of abstraction this basic scan still performs the standard TCP handshake. If the response returned is (ack)nowledged, then it is assumed that the port is open. I will not list every type of port scan as this goes against the agenda set out for this document. However, having a basic understanding of what they are should help in understanding the rest of the document more clearly.\n",
    "\n",
    "![image.png](images/tcp-hs.jpg)\n",
    "\n",
    "Since port scanning is essentially trying to connect to a given port on a machine, it makes prevention difficult due to some ports needing to be open for server functionality. The easiest solution would be just close all ports to all ingress traffic, however due to the aforementioned reason this is often less desirable. \n",
    "\n",
    "#### Identification\n",
    "**Look for Unusual Traffic Patterns**   \n",
    "  Port scans typically show up as a lot of connection attempts (SYN packets) to different ports in a short time.\n",
    "\n",
    "**Use Filters**   \n",
    "  In Wireshark, you can use specific filters to help spot these scans:    \n",
    "  + TCP SYN Packets: Use the filter `tcp.flags.syn == 1 and tcp.flags.ack == 0` to show only SYN packets which are used to initiate connections. Many SYN packets to different ports could indicate a scan.\n",
    "  + Failed Connections: Filter for TCP resets using `tcp.flags.reset == 1` to see if many connections were refused, which often happens in a scan.\n",
    "\n",
    "**Analyze IP Addresses**     \n",
    "  If one IP address is sending packets to many different ports on another IP, it's likely a port scan. Look at the source and destination IPs and ports.\n",
    "\n",
    "**Sequential or Random Port Access**    \n",
    "  Some scans try every port (sequential), while others try random ports to be less noticeable.\n",
    "\n",
    "**Check for Automated Tools**    \n",
    "Some tools like Nmap can be identified by patterns in how they scan. If you see very systematic scanning, it might be a tool at work.\n",
    "\n",
    "### Port Scan Example\n",
    "+ [CyberDefenders - XXE Infiltration CTF](https://cyberdefenders.org/blueteam-ctf-challenges/xxe-infiltration/)\n",
    "\n",
    "#### Request\n",
    "---\n",
    "+ Attacker's IP 210.106.114.183\n",
    "+ Server's IP: 50.239.151.185\n",
    "The attacker testing every port. E.g, `nmap -p-`\n",
    "![](images/sequential_pscan-response.png)\n",
    "\n",
    "#### Response\n",
    "---\n",
    "We can see that the server is sending back a '[RST, ACK]' informing the user that there was no response on this port.\n",
    "![](images/sequential_pscan-response.png)\n",
    "\n"
   ]
  },
  {
   "cell_type": "code",
   "execution_count": null,
   "id": "82b3b39a-53ff-4170-ad42-cc26e544ac6d",
   "metadata": {},
   "outputs": [],
   "source": []
  }
 ],
 "metadata": {
  "kernelspec": {
   "display_name": "Python 3 (ipykernel)",
   "language": "python",
   "name": "python3"
  },
  "language_info": {
   "codemirror_mode": {
    "name": "ipython",
    "version": 3
   },
   "file_extension": ".py",
   "mimetype": "text/x-python",
   "name": "python",
   "nbconvert_exporter": "python",
   "pygments_lexer": "ipython3",
   "version": "3.12.3"
  }
 },
 "nbformat": 4,
 "nbformat_minor": 5
}
